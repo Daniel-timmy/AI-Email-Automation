{
 "cells": [
  {
   "cell_type": "markdown",
   "metadata": {},
   "source": [
    "Configure OpenAI API Key"
   ]
  },
  {
   "cell_type": "code",
   "execution_count": null,
   "metadata": {},
   "outputs": [],
   "source": [
    "# Install the LangChain python package\n",
    "%pip install --upgrade --quiet langchain langchain-openai\n",
    "\n",
    "!pip install langchain_community -qqq\n",
    "!pip install langchain-experimental -qqq\n",
    "!pip install -qU langchain-anthropic\n"
   ]
  },
  {
   "cell_type": "code",
   "execution_count": null,
   "metadata": {},
   "outputs": [],
   "source": [
    "from langchain_anthropic import ChatAnthropic\n",
    "# Initializing Anthropic LLM model\n",
    "chat = ChatAnthropic(model=\"claude-3-5-sonnet-20241022\", api_key=\"sk-ant-api03-\")"
   ]
  },
  {
   "cell_type": "code",
   "execution_count": null,
   "metadata": {},
   "outputs": [],
   "source": [
    "from langchain_core.prompts import ChatPromptTemplate\n",
    "from pydantic import BaseModel, Field"
   ]
  },
  {
   "cell_type": "code",
   "execution_count": null,
   "metadata": {},
   "outputs": [],
   "source": [
    "import pandas as pd\n",
    "from IPython.display import display\n",
    "\n",
    "def read_data_frame(document_id, sheet_name):\n",
    "    export_link = f\"https://docs.google.com/spreadsheets/d/{document_id}/gviz/tq?tqx=out:csv&sheet={sheet_name}\"\n",
    "    return  pd.read_csv(export_link)\n",
    "\n",
    "document_id = '14fKHsblfqZfWj3iAaM2oA51TlYfQlFT4WKo52fVaQ9U'\n",
    "products_df = read_data_frame(document_id, 'products')\n",
    "emails_df = read_data_frame(document_id, 'emails')\n",
    "\n",
    "# Display first 3 rows of each DataFrame\n",
    "display(products_df.head(3))\n",
    "display(emails_df.head(3))"
   ]
  },
  {
   "cell_type": "markdown",
   "metadata": {},
   "source": [
    "Classify emails"
   ]
  },
  {
   "cell_type": "code",
   "execution_count": null,
   "metadata": {},
   "outputs": [],
   "source": [
    "class Classification(BaseModel):\n",
    "    \"\"\" Model class for defining the structured output for the LLM\"\"\"\n",
    "    category: str = Field(description=\"Either product inquiry or order request\")\n",
    "\n",
    "classifier = chat.with_structured_output(Classification)"
   ]
  },
  {
   "cell_type": "code",
   "execution_count": null,
   "metadata": {},
   "outputs": [],
   "source": [
    "\n",
    "prompt = \"\"\" Using the email body and subject provided, classify the message into either Product inquiry or\n",
    "    Order request.\n",
    "\n",
    "    \"\"\"\n",
    "category_list = []\n",
    "# iterating through the email list\n",
    "for index, row in emails_df.iterrows():\n",
    "  output_dict = {'email_id': row['email_id']}\n",
    "  # concatenating the prompt message with the email message\n",
    "  message = prompt + \"subject:\" + str(row[\"subject\"]) + \"message:\" + str(row[\"message\"])\n",
    "\n",
    "  # using the LLM to classify the email messages\n",
    "  output = classifier.invoke(message)\n",
    "  output_dict['category'] = output.category\n",
    "  category_list.append(output_dict)\n",
    "\n",
    "print(category_list)"
   ]
  },
  {
   "cell_type": "code",
   "execution_count": null,
   "metadata": {},
   "outputs": [],
   "source": [
    "# save the generated data in csv format\n",
    "df_category = pd.DataFrame(category_list)\n",
    "df_category.to_excel('classification.xlsx', index=False)"
   ]
  },
  {
   "cell_type": "markdown",
   "metadata": {},
   "source": [
    " Process order requests"
   ]
  },
  {
   "cell_type": "code",
   "execution_count": null,
   "metadata": {},
   "outputs": [],
   "source": [
    "%%capture --no-stderr\n",
    "%pip install --upgrade --quiet langgraph"
   ]
  },
  {
   "cell_type": "code",
   "execution_count": null,
   "metadata": {},
   "outputs": [],
   "source": [
    "from langchain_community.utilities import SQLDatabase\n",
    "from sqlalchemy import create_engine\n",
    "\n",
    "# change the data frame into a SQL database\n",
    "# for easy access and manipulation for the LLM\n",
    "engine = create_engine(\"sqlite:///products_catalog.db\")\n",
    "products_df.to_sql(\"products_catalog\", engine, if_exists=\"replace\")\n",
    "db = SQLDatabase(engine=engine)\n",
    "db.run(\"SELECT * FROM products_catalog LIMIT 2\")"
   ]
  },
  {
   "cell_type": "code",
   "execution_count": null,
   "metadata": {},
   "outputs": [],
   "source": [
    "from langchain_community.agent_toolkits import SQLDatabaseToolkit\n",
    "\n",
    "# tools to be used by the LLM agent to access the database\n",
    "\n",
    "toolkit = SQLDatabaseToolkit(db=db, llm=chat)\n",
    "tools = toolkit.get_tools()\n",
    "tools"
   ]
  },
  {
   "cell_type": "code",
   "execution_count": null,
   "metadata": {},
   "outputs": [],
   "source": [
    "from langchain_core.messages import SystemMessage\n",
    "SQL_PREFIX = \"\"\"You are an agent designed to interact with a SQL database.\n",
    "Given an input question, create a syntactically correct SQLite query to run, then look at the results of the query and return the answer.\n",
    "Unless the user specifies a specific number of examples they wish to obtain, always limit your query to at most 5 results.\n",
    "You can order the results by a relevant column to return the most interesting examples in the database.\n",
    "Never query for all the columns from a specific table, only ask for the relevant columns given the question.\n",
    "You have access to tools for interacting with the database.\n",
    "Only use the below tools. Only use the information returned by the below tools to construct your final answer.\n",
    "You MUST double check your query before executing it. If you get an error while executing a query, rewrite the query and try again.\n",
    "\n",
    "DO NOT make any DML statements other than UPDATE stock levels to the database.\n",
    "\n",
    "To start you should ALWAYS look at the tables in the database to see what you can query.\n",
    "Do NOT skip this step.\n",
    "Then you should query the schema of the most relevant tables.\"\"\"\n",
    "\n",
    "system_message = SystemMessage(content=SQL_PREFIX)\n",
    "\n",
    "processing_prompt = \"\"\"\n",
    "    Using the email body and subject provided, for each of the order request\n",
    "    verify product availability in stock. If the order can be fulfilled, 'created'.\n",
    "    If the order cannot be fulfilled due to insufficient stock, 'out of stock'.\n",
    "    Also generate professional response emails based on the order processing results:\n",
    "If the order is fully processed, inform the customer and provide product details.\n",
    "If the order cannot be fulfilled or is only partially fulfilled, explain the situation, specify the out-of-stock items, and suggest alternatives or options (e.g., waiting for restock).\n",
    "Also include the quantity demanded in the output and update the stock level of the product \"\"\""
   ]
  },
  {
   "cell_type": "code",
   "execution_count": null,
   "metadata": {},
   "outputs": [],
   "source": [
    "from langchain_core.messages import HumanMessage\n",
    "from langgraph.prebuilt import create_react_agent\n",
    "\n",
    "\n",
    "class OrderProcessor(BaseModel):\n",
    "    \"\"\" The basemodel class for getting\n",
    "        a structured output\"\"\"\n",
    "    product_id: str = Field(description=\"The product_id included in the mail\")\n",
    "    quantity: int = Field(description=\"The quantity of the product included in the mail\")\n",
    "    status: str = Field(description=\"Order status\", enum=[\"created\", \"out of stock\"])\n",
    "    response: str = Field(description=\"Professional response mail\")\n",
    "\n",
    "# creating a react agent that uses chat model, tools, and system message\n",
    "agent_executor = create_react_agent(chat, tools, messages_modifier=system_message)"
   ]
  },
  {
   "cell_type": "code",
   "execution_count": null,
   "metadata": {},
   "outputs": [],
   "source": [
    "# Separate order request email_id from product inquiry email_id\n",
    "ordered_request = df_category[df_category['category'] == 'order request']\n",
    "order_status = []\n",
    "order_response = []\n",
    "output = None\n",
    "\n",
    "# iterate through order request email only\n",
    "for index, row in ordered_request.iterrows():\n",
    "  # getting the email from the email data frame\n",
    "  email = emails_df[emails_df['email_id'] == row['email_id']]\n",
    "  message = processing_prompt + \"subject:\" + str(email[\"subject\"].values[0]) + '\\n' + \"message:\" + str(email[\"message\"].values[0])\n",
    "  # using the prompt and email message on the react agent\n",
    "  agent_output = agent_executor.invoke({'messages':message})\n",
    "\n",
    "  # using the output from the agent to get a structured output\n",
    "  structured_response = chat.with_structured_output(OrderProcessor)\n",
    "  output = structured_response.invoke(agent_output['messages'][-1].content)\n",
    "\n",
    "  # converting the structured output into a list of dictionaries\n",
    "  order_dict = {'email ID': row['email_id'], 'product ID': output.product_id, 'quantity': output.quantity, 'status': output.status}\n",
    "  order_status.append(order_dict)\n",
    "\n",
    "  response_dict = {'email ID': row['email_id'], 'response': output.response}\n",
    "  order_response.append(response_dict)\n",
    "\n",
    "print(order_status)\n",
    "print(order_response)"
   ]
  },
  {
   "cell_type": "code",
   "execution_count": null,
   "metadata": {},
   "outputs": [],
   "source": [
    "db.run(\"SELECT * FROM products_catalog WHERE product_id='LTH0976'\")"
   ]
  },
  {
   "cell_type": "code",
   "execution_count": null,
   "metadata": {},
   "outputs": [],
   "source": [
    "# converting the list of dictionaries into a data frame\n",
    "df_reponse = pd.DataFrame(order_response)\n",
    "df_status = pd.DataFrame(order_status)\n",
    "\n",
    "# converting the data frame to csv files\n",
    "df_reponse.to_excel('order-response.xlsx', index=False)\n",
    "df_status.to_excel('order-status.xlsx', index=False)"
   ]
  },
  {
   "cell_type": "markdown",
   "metadata": {},
   "source": [
    " Handle product inquiry"
   ]
  },
  {
   "cell_type": "code",
   "execution_count": null,
   "metadata": {},
   "outputs": [],
   "source": [
    "from langchain_community.agent_toolkits import create_sql_agent\n",
    "class InquiryProcessor(BaseModel):\n",
    "    \"\"\" Model class for products inquiry structured output\"\"\"\n",
    "    response: str = Field(description=\"Response\")\n",
    "\n",
    "\n",
    "inquiry_prompt = \"\"\"\n",
    "    Generate a professional and concise response to product inquiries using relevant\n",
    "    information from the product catalog.\n",
    "    \"\"\"\n",
    "# SQL agent\n",
    "agent_executor = create_sql_agent(chat, db=db, verbose=False)"
   ]
  },
  {
   "cell_type": "code",
   "execution_count": null,
   "metadata": {},
   "outputs": [],
   "source": [
    "# Separate order request email_id from product inquiry email_id\n",
    "\n",
    "product_inquiry = df_category[df_category['category'] == 'product inquiry']\n",
    "output_inquiry_list = []\n",
    "\n",
    "# iterate through product inquiry email only\n",
    "for index, row in product_inquiry.iterrows():\n",
    "  # getting the email from the email data frame\n",
    "  email = emails_df[emails_df['email_id'] == row['email_id']]\n",
    "  mail =  f'subject: {email[\"subject\"].values[0]}\\n message: {email[\"message\"].values[0]}'\n",
    "  input = inquiry_prompt + mail\n",
    "  #using the prompt and email message on the sql agent\n",
    "  output = agent_executor.invoke({'input': input})\n",
    "  response_data = {'email ID': row['email_id'], 'response': output['output']}\n",
    "  output_inquiry_list.append(response_data)\n",
    "  break\n",
    "\n",
    "print(output_inquiry_list)"
   ]
  },
  {
   "cell_type": "code",
   "execution_count": null,
   "metadata": {},
   "outputs": [],
   "source": [
    "# converting the list of dictionaries into a data frame\n",
    "df_inquiry = pd.DataFrame(output_inquiry_list)\n",
    "\n",
    "# converting the data frame to csv files\n",
    "df_inquiry.to_excel('inquiry-response.xlsx', index=False)"
   ]
  }
 ],
 "metadata": {
  "kernelspec": {
   "display_name": "Python 3",
   "language": "python",
   "name": "python3"
  },
  "language_info": {
   "name": "python",
   "version": "3.13.0"
  }
 },
 "nbformat": 4,
 "nbformat_minor": 2
}
